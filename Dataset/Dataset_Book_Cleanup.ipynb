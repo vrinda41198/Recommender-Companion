{
 "cells": [
  {
   "cell_type": "code",
   "execution_count": 1,
   "metadata": {},
   "outputs": [],
   "source": [
    "import pandas as pd"
   ]
  },
  {
   "cell_type": "code",
   "execution_count": null,
   "metadata": {},
   "outputs": [
    {
     "name": "stdout",
     "output_type": "stream",
     "text": [
      "<class 'pandas.core.frame.DataFrame'>\n",
      "RangeIndex: 271360 entries, 0 to 271359\n",
      "Data columns (total 8 columns):\n",
      " #   Column               Non-Null Count   Dtype \n",
      "---  ------               --------------   ----- \n",
      " 0   ISBN                 271360 non-null  object\n",
      " 1   Book-Title           271360 non-null  object\n",
      " 2   Book-Author          271358 non-null  object\n",
      " 3   Year-Of-Publication  271360 non-null  object\n",
      " 4   Publisher            271358 non-null  object\n",
      " 5   Image-URL-S          271360 non-null  object\n",
      " 6   Image-URL-M          271360 non-null  object\n",
      " 7   Image-URL-L          271357 non-null  object\n",
      "dtypes: object(8)\n",
      "memory usage: 16.6+ MB\n",
      "None\n"
     ]
    },
    {
     "name": "stderr",
     "output_type": "stream",
     "text": [
      "/tmp/ipykernel_188086/3963272938.py:3: DtypeWarning: Columns (3) have mixed types. Specify dtype option on import or set low_memory=False.\n",
      "  df = pd.read_csv('/home/vrinda/Documents/Courses/CS520/Dataset/Books/Books.csv')\n"
     ]
    }
   ],
   "source": [
    "# Load the dataset\n",
    "csv_file = \"/home/vrinda/Documents/Courses/CS520/Dataset/Books/Books.csv\"\n",
    "df = pd.read_csv(csv_file)\n",
    "\n",
    "# Display basic information about the dataset\n",
    "print(df.info())"
   ]
  },
  {
   "cell_type": "code",
   "execution_count": 3,
   "metadata": {},
   "outputs": [
    {
     "name": "stdout",
     "output_type": "stream",
     "text": [
      "\n",
      "Null values in each column:\n",
      "ISBN                   0\n",
      "Book-Title             0\n",
      "Book-Author            2\n",
      "Year-Of-Publication    0\n",
      "Publisher              2\n",
      "Image-URL-S            0\n",
      "Image-URL-M            0\n",
      "Image-URL-L            3\n",
      "dtype: int64\n"
     ]
    }
   ],
   "source": [
    "# Check for null values\n",
    "null_values = df.isnull().sum()\n",
    "print(\"\\nNull values in each column:\")\n",
    "print(null_values)"
   ]
  },
  {
   "cell_type": "code",
   "execution_count": 4,
   "metadata": {},
   "outputs": [
    {
     "name": "stdout",
     "output_type": "stream",
     "text": [
      "\n",
      "Percentage of missing values:\n",
      "ISBN                   0.000000\n",
      "Book-Title             0.000000\n",
      "Book-Author            0.000737\n",
      "Year-Of-Publication    0.000000\n",
      "Publisher              0.000737\n",
      "Image-URL-S            0.000000\n",
      "Image-URL-M            0.000000\n",
      "Image-URL-L            0.001106\n",
      "dtype: float64\n"
     ]
    }
   ],
   "source": [
    "# Calculate percentage of missing values\n",
    "missing_percentage = (null_values / len(df)) * 100\n",
    "print(\"\\nPercentage of missing values:\")\n",
    "print(missing_percentage)"
   ]
  },
  {
   "cell_type": "code",
   "execution_count": 5,
   "metadata": {},
   "outputs": [
    {
     "name": "stdout",
     "output_type": "stream",
     "text": [
      "\n",
      "Columns with missing values: ['Book-Author', 'Publisher', 'Image-URL-L']\n"
     ]
    }
   ],
   "source": [
    "# Identify columns with missing values\n",
    "columns_with_missing = missing_percentage[missing_percentage > 0].index.tolist()\n",
    "print(\"\\nColumns with missing values:\", columns_with_missing)"
   ]
  },
  {
   "cell_type": "code",
   "execution_count": null,
   "metadata": {},
   "outputs": [],
   "source": [
    "# Check for duplicate rows\n",
    "duplicates = df.duplicated().sum()\n",
    "print(f\"\\nNumber of duplicate rows: {duplicates}\")"
   ]
  },
  {
   "cell_type": "code",
   "execution_count": null,
   "metadata": {},
   "outputs": [],
   "source": [
    "# Display summary statistics\n",
    "print(\"\\nSummary statistics:\")\n",
    "print(df.describe())"
   ]
  },
  {
   "cell_type": "code",
   "execution_count": null,
   "metadata": {},
   "outputs": [],
   "source": [
    "# Check data types of columns\n",
    "print(\"\\nData types of columns:\")\n",
    "print(df.dtypes)"
   ]
  },
  {
   "cell_type": "code",
   "execution_count": null,
   "metadata": {},
   "outputs": [],
   "source": [
    "# Check for any completely empty columns\n",
    "empty_columns = df.columns[df.isnull().all()].tolist()\n",
    "print(\"\\nCompletely empty columns:\", empty_columns)"
   ]
  },
  {
   "cell_type": "code",
   "execution_count": 10,
   "metadata": {},
   "outputs": [],
   "source": [
    "# List of columns to keep\n",
    "columns_to_keep = ['ISBN', 'Book-Title', 'Book-Author', 'Year-Of-Publication', 'Image-URL-S']\n",
    "\n",
    "df_cleaned = df[columns_to_keep]"
   ]
  },
  {
   "cell_type": "code",
   "execution_count": 11,
   "metadata": {},
   "outputs": [
    {
     "name": "stdout",
     "output_type": "stream",
     "text": [
      "Index(['ISBN', 'Book-Title', 'Book-Author', 'Year-Of-Publication',\n",
      "       'Image-URL-S'],\n",
      "      dtype='object')\n",
      "ISBN                   0\n",
      "Book-Title             0\n",
      "Book-Author            2\n",
      "Year-Of-Publication    0\n",
      "Image-URL-S            0\n",
      "dtype: int64\n"
     ]
    }
   ],
   "source": [
    "# Verifying the remaining columns\n",
    "print(df_cleaned.columns)\n",
    "\n",
    "print(df_cleaned.isnull().sum())"
   ]
  },
  {
   "cell_type": "code",
   "execution_count": 12,
   "metadata": {},
   "outputs": [
    {
     "name": "stdout",
     "output_type": "stream",
     "text": [
      "Number of rows after dropping null values: 271360\n",
      "\n",
      "Null values in each column after dropping:\n",
      "ISBN                   0\n",
      "Book-Title             0\n",
      "Book-Author            0\n",
      "Year-Of-Publication    0\n",
      "Image-URL-S            0\n",
      "dtype: int64\n"
     ]
    }
   ],
   "source": [
    "# Drop all rows with null values\n",
    "df_null_cleaned = df_cleaned.dropna()\n",
    "print(f\"Number of rows after dropping null values: {len(df_cleaned)}\")\n",
    "\n",
    "# Display the number of null values in each column after dropping\n",
    "print(\"\\nNull values in each column after dropping:\")\n",
    "print(df_null_cleaned.isnull().sum())"
   ]
  },
  {
   "cell_type": "code",
   "execution_count": 14,
   "metadata": {},
   "outputs": [
    {
     "name": "stdout",
     "output_type": "stream",
     "text": [
      "Total entries: 271358\n",
      "Total entries with numeric ISBNs: 249024\n"
     ]
    }
   ],
   "source": [
    "def is_numeric(isbn):\n",
    "    return isbn.isdigit()\n",
    "\n",
    "# Filter the DataFrame to keep only rows where the ISBN is numeric\n",
    "filtered_data = df_null_cleaned[df_null_cleaned['ISBN'].apply(is_numeric)]\n",
    "print(f\"Total entries: {len(df_null_cleaned)}\")\n",
    "print(f\"Total entries with numeric ISBNs: {len(filtered_data)}\")"
   ]
  },
  {
   "cell_type": "code",
   "execution_count": 15,
   "metadata": {},
   "outputs": [],
   "source": [
    "output_file = '/home/vrinda/Documents/Courses/CS520/Project/Recommender-Companion/Dataset/books.csv'"
   ]
  },
  {
   "cell_type": "code",
   "execution_count": null,
   "metadata": {},
   "outputs": [],
   "source": [
    "# Save the cleaned data to a new CSV file\n",
    "# filtered_data.to_csv(output_file,  index=False, encoding='utf-8')"
   ]
  },
  {
   "cell_type": "code",
   "execution_count": null,
   "metadata": {},
   "outputs": [
    {
     "name": "stdout",
     "output_type": "stream",
     "text": [
      "Year with the most digits in the 'Year-Of-Publication' column: DK Publishing Inc\n",
      "2\n"
     ]
    }
   ],
   "source": [
    "longest_year = max(filtered_data['Year-Of-Publication'], key=lambda x: len(str(x)))\n",
    "\n",
    "# Print the result\n",
    "print(\"Year with the most digits in the 'Year-Of-Publication' column:\", longest_year)\n",
    "\n",
    "count_rows = filtered_data[filtered_data['Year-Of-Publication'].apply(lambda x: len(str(x)) > 4)].shape[0]\n",
    "\n",
    "print(count_rows)"
   ]
  },
  {
   "cell_type": "code",
   "execution_count": 18,
   "metadata": {},
   "outputs": [],
   "source": [
    "df_new = filtered_data[filtered_data['Year-Of-Publication'].apply(lambda x: len(str(x)) <= 4)]"
   ]
  },
  {
   "cell_type": "code",
   "execution_count": null,
   "metadata": {},
   "outputs": [
    {
     "name": "stdout",
     "output_type": "stream",
     "text": [
      "Year with the most digits in the 'Year-Of-Publication' column: 2002\n",
      "0\n"
     ]
    }
   ],
   "source": [
    "longest_year = max(df_new['Year-Of-Publication'], key=lambda x: len(str(x)))\n",
    "\n",
    "# Print the result\n",
    "print(\"Year with the most digits in the 'Year-Of-Publication' column:\", longest_year)\n",
    "\n",
    "count_rows = df_new[df_new['Year-Of-Publication'].apply(lambda x: len(str(x)) > 4)].shape[0]\n",
    "\n",
    "print(count_rows)"
   ]
  },
  {
   "cell_type": "code",
   "execution_count": null,
   "metadata": {},
   "outputs": [],
   "source": [
    "# Save the cleaned data to a new CSV file\n",
    "# df_new.to_csv(output_file,  index=False, encoding='utf-8')"
   ]
  }
 ],
 "metadata": {
  "kernelspec": {
   "display_name": "myenv",
   "language": "python",
   "name": "myenv"
  },
  "language_info": {
   "codemirror_mode": {
    "name": "ipython",
    "version": 3
   },
   "file_extension": ".py",
   "mimetype": "text/x-python",
   "name": "python",
   "nbconvert_exporter": "python",
   "pygments_lexer": "ipython3",
   "version": "3.12.3"
  }
 },
 "nbformat": 4,
 "nbformat_minor": 2
}
