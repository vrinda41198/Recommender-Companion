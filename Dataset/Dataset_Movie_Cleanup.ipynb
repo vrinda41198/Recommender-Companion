{
 "cells": [
  {
   "cell_type": "code",
   "execution_count": 1,
   "metadata": {},
   "outputs": [],
   "source": [
    "import pandas as pd\n",
    "import random\n",
    "import os"
   ]
  },
  {
   "cell_type": "code",
   "execution_count": null,
   "metadata": {},
   "outputs": [
    {
     "name": "stdout",
     "output_type": "stream",
     "text": [
      "<class 'pandas.core.frame.DataFrame'>\n",
      "RangeIndex: 1023264 entries, 0 to 1023263\n",
      "Data columns (total 28 columns):\n",
      " #   Column                   Non-Null Count    Dtype  \n",
      "---  ------                   --------------    -----  \n",
      " 0   id                       1023264 non-null  int64  \n",
      " 1   title                    1023252 non-null  object \n",
      " 2   vote_average             1023262 non-null  float64\n",
      " 3   vote_count               1023262 non-null  float64\n",
      " 4   status                   1023262 non-null  object \n",
      " 5   release_date             909452 non-null   object \n",
      " 6   revenue                  1023262 non-null  float64\n",
      " 7   runtime                  1023262 non-null  float64\n",
      " 8   budget                   1023262 non-null  float64\n",
      " 9   imdb_id                  592840 non-null   object \n",
      " 10  original_language        1023262 non-null  object \n",
      " 11  original_title           1023252 non-null  object \n",
      " 12  overview                 842547 non-null   object \n",
      " 13  popularity               1023262 non-null  float64\n",
      " 14  tagline                  152126 non-null   object \n",
      " 15  genres                   726601 non-null   object \n",
      " 16  production_companies     472521 non-null   object \n",
      " 17  production_countries     618949 non-null   object \n",
      " 18  spoken_languages         630674 non-null   object \n",
      " 19  cast                     683184 non-null   object \n",
      " 20  director                 838769 non-null   object \n",
      " 21  director_of_photography  245883 non-null   object \n",
      " 22  writers                  495990 non-null   object \n",
      " 23  producers                325898 non-null   object \n",
      " 24  music_composer           99820 non-null    object \n",
      " 25  imdb_rating              430769 non-null   float64\n",
      " 26  imdb_votes               430769 non-null   float64\n",
      " 27  poster_path              724231 non-null   object \n",
      "dtypes: float64(8), int64(1), object(19)\n",
      "memory usage: 218.6+ MB\n",
      "None\n"
     ]
    }
   ],
   "source": [
    "# Load the dataset\n",
    "df = pd.read_csv('/home/vrinda/Documents/Courses/CS520/Dataset/Movies/TMDB_all_movies.csv')\n",
    "\n",
    "# Display basic information about the dataset\n",
    "print(df.info())"
   ]
  },
  {
   "cell_type": "code",
   "execution_count": 3,
   "metadata": {},
   "outputs": [
    {
     "name": "stdout",
     "output_type": "stream",
     "text": [
      "\n",
      "Null values in each column:\n",
      "id                              0\n",
      "title                          12\n",
      "vote_average                    2\n",
      "vote_count                      2\n",
      "status                          2\n",
      "release_date               113812\n",
      "revenue                         2\n",
      "runtime                         2\n",
      "budget                          2\n",
      "imdb_id                    430424\n",
      "original_language               2\n",
      "original_title                 12\n",
      "overview                   180717\n",
      "popularity                      2\n",
      "tagline                    871138\n",
      "genres                     296663\n",
      "production_companies       550743\n",
      "production_countries       404315\n",
      "spoken_languages           392590\n",
      "cast                       340080\n",
      "director                   184495\n",
      "director_of_photography    777381\n",
      "writers                    527274\n",
      "producers                  697366\n",
      "music_composer             923444\n",
      "imdb_rating                592495\n",
      "imdb_votes                 592495\n",
      "poster_path                299033\n",
      "dtype: int64\n"
     ]
    }
   ],
   "source": [
    "# Check for null values\n",
    "null_values = df.isnull().sum()\n",
    "print(\"\\nNull values in each column:\")\n",
    "print(null_values)"
   ]
  },
  {
   "cell_type": "code",
   "execution_count": 56,
   "metadata": {},
   "outputs": [
    {
     "name": "stdout",
     "output_type": "stream",
     "text": [
      "\n",
      "Percentage of missing values:\n",
      "id                          0.000000\n",
      "title                       0.001173\n",
      "vote_average                0.000195\n",
      "vote_count                  0.000195\n",
      "status                      0.000195\n",
      "release_date               11.122447\n",
      "revenue                     0.000195\n",
      "runtime                     0.000195\n",
      "budget                      0.000195\n",
      "imdb_id                    42.063827\n",
      "original_language           0.000195\n",
      "original_title              0.001173\n",
      "overview                   17.660838\n",
      "popularity                  0.000195\n",
      "tagline                    85.133260\n",
      "genres                     28.991834\n",
      "production_companies       53.822181\n",
      "production_countries       39.512286\n",
      "spoken_languages           38.366443\n",
      "cast                       33.234825\n",
      "director                   18.030049\n",
      "director_of_photography    75.970717\n",
      "writers                    51.528638\n",
      "producers                  68.151132\n",
      "music_composer             90.244942\n",
      "imdb_rating                57.902457\n",
      "imdb_votes                 57.902457\n",
      "poster_path                29.223446\n",
      "dtype: float64\n"
     ]
    }
   ],
   "source": [
    "# Calculate percentage of missing values\n",
    "missing_percentage = (null_values / len(df)) * 100\n",
    "print(\"\\nPercentage of missing values:\")\n",
    "print(missing_percentage)"
   ]
  },
  {
   "cell_type": "code",
   "execution_count": 57,
   "metadata": {},
   "outputs": [
    {
     "name": "stdout",
     "output_type": "stream",
     "text": [
      "\n",
      "Columns with missing values: ['title', 'vote_average', 'vote_count', 'status', 'release_date', 'revenue', 'runtime', 'budget', 'imdb_id', 'original_language', 'original_title', 'overview', 'popularity', 'tagline', 'genres', 'production_companies', 'production_countries', 'spoken_languages', 'cast', 'director', 'director_of_photography', 'writers', 'producers', 'music_composer', 'imdb_rating', 'imdb_votes', 'poster_path']\n"
     ]
    }
   ],
   "source": [
    "# Identify columns with missing values\n",
    "columns_with_missing = missing_percentage[missing_percentage > 0].index.tolist()\n",
    "print(\"\\nColumns with missing values:\", columns_with_missing)"
   ]
  },
  {
   "cell_type": "code",
   "execution_count": 43,
   "metadata": {},
   "outputs": [
    {
     "name": "stdout",
     "output_type": "stream",
     "text": [
      "\n",
      "Number of duplicate rows: 0\n"
     ]
    }
   ],
   "source": [
    "# Check for duplicate rows\n",
    "duplicates = df.duplicated().sum()\n",
    "print(f\"\\nNumber of duplicate rows: {duplicates}\")"
   ]
  },
  {
   "cell_type": "code",
   "execution_count": null,
   "metadata": {},
   "outputs": [
    {
     "name": "stdout",
     "output_type": "stream",
     "text": [
      "\n",
      "Data types of columns:\n",
      "id                           int64\n",
      "title                       object\n",
      "vote_average               float64\n",
      "vote_count                 float64\n",
      "status                      object\n",
      "release_date                object\n",
      "revenue                    float64\n",
      "runtime                    float64\n",
      "budget                     float64\n",
      "imdb_id                     object\n",
      "original_language           object\n",
      "original_title              object\n",
      "overview                    object\n",
      "popularity                 float64\n",
      "tagline                     object\n",
      "genres                      object\n",
      "production_companies        object\n",
      "production_countries        object\n",
      "spoken_languages            object\n",
      "cast                        object\n",
      "director                    object\n",
      "director_of_photography     object\n",
      "writers                     object\n",
      "producers                   object\n",
      "music_composer              object\n",
      "imdb_rating                float64\n",
      "imdb_votes                 float64\n",
      "poster_path                 object\n",
      "dtype: object\n"
     ]
    }
   ],
   "source": [
    "# Check data types of columns\n",
    "print(\"\\nData types of columns:\")\n",
    "print(df.dtypes)"
   ]
  },
  {
   "cell_type": "code",
   "execution_count": 58,
   "metadata": {},
   "outputs": [
    {
     "name": "stdout",
     "output_type": "stream",
     "text": [
      "\n",
      "Completely empty columns: []\n"
     ]
    }
   ],
   "source": [
    "# Check for any completely empty columns\n",
    "empty_columns = df.columns[df.isnull().all()].tolist()\n",
    "print(\"\\nCompletely empty columns:\", empty_columns)"
   ]
  },
  {
   "cell_type": "code",
   "execution_count": 4,
   "metadata": {},
   "outputs": [],
   "source": [
    "# List of columns to keep\n",
    "columns_to_keep = ['id', 'title', 'release_date', 'original_language', 'genres', 'cast', 'director','poster_path']\n",
    "df_cleaned = df[columns_to_keep]"
   ]
  },
  {
   "cell_type": "code",
   "execution_count": 7,
   "metadata": {},
   "outputs": [
    {
     "name": "stdout",
     "output_type": "stream",
     "text": [
      "id                    int64\n",
      "title                object\n",
      "release_date         object\n",
      "original_language    object\n",
      "genres               object\n",
      "cast                 object\n",
      "director             object\n",
      "poster_path          object\n",
      "dtype: object\n"
     ]
    }
   ],
   "source": [
    "print(df_cleaned.dtypes)"
   ]
  },
  {
   "cell_type": "code",
   "execution_count": 60,
   "metadata": {},
   "outputs": [
    {
     "name": "stdout",
     "output_type": "stream",
     "text": [
      "Index(['id', 'title', 'release_date', 'original_language', 'genres', 'cast',\n",
      "       'director', 'poster_path'],\n",
      "      dtype='object')\n",
      "id                        0\n",
      "title                    12\n",
      "release_date         113812\n",
      "original_language         2\n",
      "genres               296663\n",
      "cast                 340080\n",
      "director             184495\n",
      "poster_path          299033\n",
      "dtype: int64\n"
     ]
    }
   ],
   "source": [
    "# Verifying the remaining columns\n",
    "print(df_cleaned.columns)\n",
    "print(df_cleaned.isnull().sum())"
   ]
  },
  {
   "cell_type": "code",
   "execution_count": 9,
   "metadata": {},
   "outputs": [
    {
     "name": "stdout",
     "output_type": "stream",
     "text": [
      "Number of rows after dropping null values: 423838\n",
      "\n",
      "Null values in each column after dropping:\n",
      "id                   0\n",
      "title                0\n",
      "release_date         0\n",
      "original_language    0\n",
      "genres               0\n",
      "cast                 0\n",
      "director             0\n",
      "poster_path          0\n",
      "dtype: int64\n"
     ]
    }
   ],
   "source": [
    "# Drop all rows with null values\n",
    "df_null_cleaned = df_cleaned.dropna()\n",
    "print(f\"Number of rows after dropping null values: {len(df_null_cleaned)}\")\n",
    "\n",
    "# Display the number of null values in each column after dropping\n",
    "print(\"\\nNull values in each column after dropping:\")\n",
    "print(df_null_cleaned.isnull().sum())"
   ]
  },
  {
   "cell_type": "code",
   "execution_count": null,
   "metadata": {},
   "outputs": [],
   "source": [
    "og_path = \"/home/vrinda/Documents/Courses/CS520/Project/Cleaned Dataset/movies_large.csv\""
   ]
  },
  {
   "cell_type": "code",
   "execution_count": null,
   "metadata": {},
   "outputs": [
    {
     "name": "stdout",
     "output_type": "stream",
     "text": [
      "113.1352367401123\n",
      "0.5303387497020802\n"
     ]
    }
   ],
   "source": [
    "current_size_mb = os.path.getsize(og_path) / (1024 * 1024)\n",
    "ratio_to_keep = 60 / current_size_mb"
   ]
  },
  {
   "cell_type": "code",
   "execution_count": null,
   "metadata": {},
   "outputs": [
    {
     "name": "stdout",
     "output_type": "stream",
     "text": [
      "423838 224777\n"
     ]
    }
   ],
   "source": [
    "initial_rows = len(df_null_cleaned)\n",
    "target_rows = int(initial_rows * ratio_to_keep)"
   ]
  },
  {
   "cell_type": "code",
   "execution_count": 72,
   "metadata": {},
   "outputs": [],
   "source": [
    "rows_to_keep = random.sample(range(initial_rows), target_rows)\n",
    "\n",
    "# Create a new dataframe with the selected rows\n",
    "df_reduced = df_null_cleaned.iloc[rows_to_keep]"
   ]
  },
  {
   "cell_type": "code",
   "execution_count": null,
   "metadata": {},
   "outputs": [],
   "source": [
    "output_file = \"/home/vrinda/Documents/Courses/CS520/Project/Cleaned Dataset/movies.csv\"\n",
    "# Save the reduced dataframe to a new CSV file\n",
    "# df_reduced.to_csv(output_file, index=False)"
   ]
  },
  {
   "cell_type": "code",
   "execution_count": null,
   "metadata": {},
   "outputs": [],
   "source": []
  }
 ],
 "metadata": {
  "kernelspec": {
   "display_name": "myenv",
   "language": "python",
   "name": "myenv"
  },
  "language_info": {
   "codemirror_mode": {
    "name": "ipython",
    "version": 3
   },
   "file_extension": ".py",
   "mimetype": "text/x-python",
   "name": "python",
   "nbconvert_exporter": "python",
   "pygments_lexer": "ipython3",
   "version": "3.12.3"
  }
 },
 "nbformat": 4,
 "nbformat_minor": 2
}
